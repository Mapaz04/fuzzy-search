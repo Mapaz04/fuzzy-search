{
 "cells": [
  {
   "cell_type": "markdown",
   "metadata": {},
   "source": [
    "# <center>How **Fuzzy Text Search** Works<br></center>\n",
    "\n",
    "<br>\n",
    "\n",
    "## **Introduction**\n",
    "- `fuzzywuzzy` and `rapidfuzz` libraries in Python\n",
    "\n",
    "## **How does it work?**\n",
    "\n",
    "- When are two strings \"similar\"?\n",
    "\n",
    "\n",
    "<br class=\"vtab\">"
   ]
  },
  {
   "cell_type": "markdown",
   "metadata": {},
   "source": [
    "source: https://www.youtube.com/watch?v=SoZ1CVU2DdE"
   ]
  },
  {
   "cell_type": "code",
   "execution_count": null,
   "metadata": {},
   "outputs": [],
   "source": [
    "from fuzzywuzzy import fuzz as fuzzywuzzy_fuzz, process as fuzzywuzzy_process\n",
    "from rapidfuzz import fuzz as rapidfuzz_fuzz, process as rapidfuzz_process"
   ]
  },
  {
   "cell_type": "code",
   "execution_count": null,
   "metadata": {},
   "outputs": [],
   "source": [
    "#search anterior\n",
    "\"camisa\" == \"camis\""
   ]
  },
  {
   "cell_type": "code",
   "execution_count": null,
   "metadata": {},
   "outputs": [],
   "source": [
    "#vtex search\n",
    "                    #keyword    Lo que el usuario escribe  \n",
    "fuzzywuzzy_fuzz.ratio(\"camisa\", \"camis\")"
   ]
  },
  {
   "cell_type": "code",
   "execution_count": null,
   "metadata": {},
   "outputs": [],
   "source": [
    "#vtex search\n",
    "fuzzywuzzy_fuzz.ratio(\"hamburgu\", \"hamburguesa\")"
   ]
  },
  {
   "cell_type": "code",
   "execution_count": null,
   "metadata": {},
   "outputs": [],
   "source": [
    "len(\"hamburguesa\")"
   ]
  },
  {
   "cell_type": "markdown",
   "metadata": {},
   "source": [
    "How do you measure **similarity** of two strings **a**, **b**?\n",
    "- Number of editing operations to get from **a** to **b**\n",
    "    - Replace (Hamming)\n",
    "    - Replace, insert, delete (Levenshtein)\n",
    "    - Replace, insert, delete, transpose (Levenshtein-Damerau)\n",
    "    - ...\n",
    "- Longest common substring\n",
    "- Common word count\n",
    "- Letter frequency\n",
    "- ...\n",
    "\n",
    "<br>\n",
    "\n",
    "Depending on the application (are we comparing single words? paragraphs? DNA sequences?), some similarity measures will be more appropriate than others. In this tutorial, we'll focus on **edit distance** measures.\n",
    "\n",
    "<br class=\"vtab\">"
   ]
  }
 ],
 "metadata": {
  "interpreter": {
   "hash": "082e9a3bcad0a290d0001e938aa60b99250c6c2ef33a923c00b70f9826caf4b7"
  },
  "kernelspec": {
   "display_name": "Python 3.8.0 64-bit",
   "name": "python3"
  },
  "language_info": {
   "codemirror_mode": {
    "name": "ipython",
    "version": 3
   },
   "file_extension": ".py",
   "mimetype": "text/x-python",
   "name": "python",
   "nbconvert_exporter": "python",
   "pygments_lexer": "ipython3",
   "version": "3.8.0"
  }
 },
 "nbformat": 4,
 "nbformat_minor": 5
}